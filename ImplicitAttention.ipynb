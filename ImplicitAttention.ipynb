{
 "cells": [
  {
   "cell_type": "markdown",
   "id": "75c76887",
   "metadata": {},
   "source": [
    "# Implicit attention"
   ]
  },
  {
   "cell_type": "markdown",
   "id": "31371583",
   "metadata": {},
   "source": [
    "Implicit attention in machine learning is about the model naturally learning to focus on important information while filtering out unnecessary details. Think of it like when we talk to someone and pay attention to their words, ignoring other background noises.\n",
    "\n",
    "For machine learning to succeed, models must learn this skill of implicit attention. If a machine learning model performs well, it means it has figured out how to focus on the right details without needing a specifically designed attention mechanism.\n",
    "\n",
    "\n",
    "\n",
    "Consider a basic linear regression model:\n",
    "\n",
    "$$ Y = W^T X + b$$\n",
    "it assigns weights to different input attributes and adds them up. Imagine there are many attributes, but only some are actually helpful.\n",
    "\n",
    "Let's use the MNIST dataset as an example to explore this idea further.\n",
    "\n"
   ]
  },
  {
   "cell_type": "markdown",
   "id": "aca5539f",
   "metadata": {},
   "source": [
    "## Getting MNIST data"
   ]
  },
  {
   "cell_type": "code",
   "execution_count": 1,
   "id": "9fa8a726",
   "metadata": {},
   "outputs": [
    {
     "name": "stderr",
     "output_type": "stream",
     "text": [
      "c:\\Localdata\\install\\anaconda\\install\\envs\\myenv\\lib\\site-packages\\requests\\__init__.py:102: RequestsDependencyWarning: urllib3 (1.26.9) or chardet (5.0.0)/charset_normalizer (2.0.12) doesn't match a supported version!\n",
      "  warnings.warn(\"urllib3 ({}) or chardet ({})/charset_normalizer ({}) doesn't match a supported \"\n"
     ]
    }
   ],
   "source": [
    "from src.data_builder import mnist\n",
    "mnist_data = mnist.MNIST()"
   ]
  },
  {
   "cell_type": "code",
   "execution_count": 2,
   "id": "7c20af88",
   "metadata": {},
   "outputs": [
    {
     "data": {
      "image/png": "[encoded data removed]",
      "text/plain": [
       "<Figure size 432x288 with 2 Axes>"
      ]
     },
     "metadata": {
      "needs_background": "light"
     },
     "output_type": "display_data"
    }
   ],
   "source": [
    "from src.visualization.plotting import image_plotting\n",
    "image_plotting([mnist_data.train_set.data[0],mnist_data.train_set.data[1]])"
   ]
  },
  {
   "cell_type": "markdown",
   "id": "18bc0294",
   "metadata": {},
   "source": [
    "To identify a digit, we don't need to consider every pixel in the image. Many pixels, especially those around the edges, contain zero information. When training a linear model for digit recognition, if the model performs well, it implies that it has learned to focus on the informative pixels, typically located in the center of the image.\n",
    "\n",
    "Our next objective is to leverage this linear model to elucidate how implicit attention is employed. Let's proceed with this exploration."
   ]
  },
  {
   "cell_type": "markdown",
   "id": "4ea6b66d",
   "metadata": {},
   "source": [
    "## Setting up the experiment data"
   ]
  },
  {
   "cell_type": "markdown",
   "id": "95ecad32",
   "metadata": {},
   "source": [
    "For the sake of demonstration we only take 2 classes of the digits."
   ]
  },
  {
   "cell_type": "code",
   "execution_count": 3,
   "id": "ed8f7e75",
   "metadata": {},
   "outputs": [],
   "source": [
    "from torch.utils.data import DataLoader\n",
    "from src.models import linear_model, trainer, cnn\n",
    "from src.data_builder import mnist\n",
    "import torch\n",
    "from torch import optim\n",
    "import matplotlib.pyplot as plt\n",
    "\n",
    "\n",
    "mnist_data = mnist.MNIST(flatten=True)\n",
    "subset_data = mnist_data.subset_traindata(labels=[7,9])\n",
    "train_loader = DataLoader(subset_data, batch_size=64, shuffle=True)"
   ]
  },
  {
   "cell_type": "markdown",
   "id": "53629728",
   "metadata": {},
   "source": [
    "## Modeling a linear (binary) classifier"
   ]
  },
  {
   "cell_type": "markdown",
   "id": "42cc0d00",
   "metadata": {},
   "source": [
    "Now, we'll establish a linear binary classifier using PyTorch:"
   ]
  },
  {
   "cell_type": "code",
   "execution_count": 5,
   "id": "834bd25d",
   "metadata": {},
   "outputs": [],
   "source": [
    "\n",
    "lm = linear_model.LinearClassifier(dim=28, num_output=2)\n",
    "optimizer = optim.Adagrad(lm.parameters(), lr=0.01, weight_decay=1e-1)\n",
    "criterion = torch.nn.CrossEntropyLoss()"
   ]
  },
  {
   "cell_type": "code",
   "execution_count": 6,
   "id": "1fa5a92c",
   "metadata": {},
   "outputs": [],
   "source": [
    "model_trainer = trainer.Trainer(model=lm, optimizer=optimizer,\n",
    "                  criterion=criterion, train_data=train_loader, num_epoch = 10, vectorized=True)\n",
    "model_trainer.run(verbose=0)"
   ]
  },
  {
   "cell_type": "markdown",
   "id": "a2cd93f7",
   "metadata": {},
   "source": [
    "As mentioned earlier, the weights in a linear model serve as a reflection of how the model implicitly attends to input features. To gain insights into this implicit attention, let's visualize the weights.\n",
    "\n",
    "**NOTE**: In this particular model, we're dealing with two classes and two output nodes. Consequently, we have two sets of weights, each mapping pixels to one of the output nodes."
   ]
  },
  {
   "cell_type": "code",
   "execution_count": 7,
   "id": "3c8c502d",
   "metadata": {},
   "outputs": [
    {
     "data": {
      "image/png": "[encoded data removed]",
      "text/plain": [
       "<Figure size 432x288 with 4 Axes>"
      ]
     },
     "metadata": {
      "needs_background": "light"
     },
     "output_type": "display_data"
    }
   ],
   "source": [
    "weights = list(lm.get_parameters())[0]\n",
    "fig, ax = plt.subplots(1,2)\n",
    "for output in range(0,2):\n",
    "    im = ax[output].imshow(torch.reshape(weights.data[output],(28,28)))\n",
    "    _ = fig.colorbar(im,ax=ax[output], fraction=0.05)\n",
    "plt.tight_layout()\n"
   ]
  },
  {
   "cell_type": "markdown",
   "id": "905e3be3",
   "metadata": {},
   "source": [
    "The depicted plots reveal a significant pattern: the learned weights concentrate on extracting information primarily from the center of the images, while the weights for pixels located off the center are nearly equal and close to zero.\n",
    "\n",
    "This serves as a clear instance of implicit attention in action. No additional design has been imposed on the model to guide its attention; rather, the model implicitly learns to attend effectively, leading to well performance. While our model is relatively simple, it aptly addresses the task at hand. However, it's important to note that for more challenging tasks, a more complex model may be necessary to achieve satisfactory performance."
   ]
  },
  {
   "cell_type": "markdown",
   "id": "752f2b08",
   "metadata": {},
   "source": [
    "## Modeling a CNN"
   ]
  },
  {
   "cell_type": "markdown",
   "id": "dfdcee41",
   "metadata": {},
   "source": [
    "Now, let's transition to the entire MNIST dataset, encompassing all 10 classes. Although this task is still moderately challenging, achieving optimal performance may necessitate a more complex model. A straightforward yet effective choice for MNIST is a Convolutional Neural Network (CNN). Here, we'll construct a CNN model: "
   ]
  },
  {
   "cell_type": "code",
   "execution_count": 13,
   "id": "e65258b5",
   "metadata": {},
   "outputs": [],
   "source": [
    "# reading data\n",
    "num_classes= 10\n",
    "mnist_data = mnist.MNIST(flatten=False)\n",
    "train_loader = DataLoader(mnist_data.train_set, batch_size=64, shuffle=True)"
   ]
  },
  {
   "cell_type": "code",
   "execution_count": 34,
   "id": "8d675389",
   "metadata": {},
   "outputs": [],
   "source": [
    "# model instantiation\n",
    "cnn_classifier = cnn.CNNClassifier(num_classes)\n",
    "optimizer = optim.Adam(cnn_classifier.parameters(), lr=0.01)\n",
    "criterion = torch.nn.CrossEntropyLoss()\n"
   ]
  },
  {
   "cell_type": "code",
   "execution_count": 35,
   "id": "ba18888f",
   "metadata": {},
   "outputs": [
    {
     "name": "stdout",
     "output_type": "stream",
     "text": [
      "epoch 0 is ended: train loss 0.593618631362915\n",
      "epoch 1 is ended: train loss 0.49647757411003113\n",
      "epoch 2 is ended: train loss 0.4541296362876892\n",
      "epoch 3 is ended: train loss 0.4304479658603668\n",
      "epoch 4 is ended: train loss 0.41489189863204956\n",
      "epoch 5 is ended: train loss 0.40370282530784607\n",
      "epoch 6 is ended: train loss 0.3963717222213745\n",
      "epoch 7 is ended: train loss 0.38923466205596924\n",
      "epoch 8 is ended: train loss 0.3824782371520996\n",
      "epoch 9 is ended: train loss 0.37813201546669006\n"
     ]
    }
   ],
   "source": [
    "# model training\n",
    "model_trainer = trainer.Trainer(model=cnn_classifier, optimizer=optimizer,\n",
    "                  criterion=criterion, train_data=train_loader, num_epoch = 10)\n",
    "model_trainer.run(verbose=1)"
   ]
  },
  {
   "cell_type": "markdown",
   "id": "47eb0308",
   "metadata": {},
   "source": [
    "In the case of logistic regression, we directly examined the weights to gauge the model's attention to relevant inputs. However, for more complex models like the CNN we just trained, attention can be conceptualized as the sensitivity of the output concerning changes in the input. This sensitivity is encapsulated by the Jacobian matrix.\n",
    "\n",
    "For each input-output pair ($x_i, y_j$), the *ij*th element of the Jacobian matrix is represented by:\n",
    "\n",
    "$$\n",
    "\\frac{\\partial y_j}{\\partial x_i}\n",
    "$$\n",
    "\n",
    "If the model has been effectively trained to prioritize $x_i$ as a crucial feature in predicting $y_j$, the corresponding derivative should be high.\n",
    "\n",
    "In the case of our simple logistic regression model, it's noteworthy that the weights $W$ serve as an equivalent to the Jacobian matrix.\n",
    "\n",
    "Thanks to PyTorch, computing the Jacobian matrix becomes a straightforward task."
   ]
  },
  {
   "cell_type": "code",
   "execution_count": 36,
   "id": "835a7596",
   "metadata": {
    "scrolled": true
   },
   "outputs": [],
   "source": [
    "index=1\n",
    "image = next(iter(train_loader))[0][[index]] ## choosing an image (arbitrarily)\n",
    "Jacobian_matrix = torch.autograd.functional.jacobian(cnn_classifier, image).view(10,28,28)\n"
   ]
  },
  {
   "cell_type": "markdown",
   "id": "fd52b319",
   "metadata": {},
   "source": [
    "Now, let's visualize the elements of the Jacobian matrix:"
   ]
  },
  {
   "cell_type": "code",
   "execution_count": 37,
   "id": "01ec0525",
   "metadata": {
    "scrolled": false
   },
   "outputs": [
    {
     "data": {
      "image/png": "[encoded data removed]",
      "text/plain": [
       "<Figure size 2160x2160 with 20 Axes>"
      ]
     },
     "metadata": {
      "needs_background": "light"
     },
     "output_type": "display_data"
    }
   ],
   "source": [
    "fig, ax = plt.subplots(1,num_classes, figsize=(30,30))\n",
    "for i in range(num_classes):\n",
    "    ax[i].imshow(Jacobian_matrix[i])\n",
    "    ax[i].set_title(f'output {i}')\n",
    "    _ = fig.colorbar(im,ax=ax[i], fraction=0.05)\n",
    "plt.tight_layout()"
   ]
  },
  {
   "cell_type": "markdown",
   "id": "cde5d74c",
   "metadata": {},
   "source": [
    "Once more, the visualizations affirm the predominant attention towards the center of the images. It's worth noting that unlike the linear model, the attention pattern varies across inputs (adjust the \"index\" variable and observe), underscoring the CNN's capacity for more nuanced implicit attention, potentially contributing to enhanced performance."
   ]
  },
  {
   "cell_type": "markdown",
   "metadata": {},
   "source": []
  }
 ],
 "metadata": {
  "kernelspec": {
   "display_name": "Python 3 (ipykernel)",
   "language": "python",
   "name": "python3"
  },
  "language_info": {
   "codemirror_mode": {
    "name": "ipython",
    "version": 3
   },
   "file_extension": ".py",
   "mimetype": "text/x-python",
   "name": "python",
   "nbconvert_exporter": "python",
   "pygments_lexer": "ipython3",
   "version": "3.9.12"
  },
  "toc": {
   "base_numbering": 1,
   "nav_menu": {},
   "number_sections": true,
   "sideBar": true,
   "skip_h1_title": false,
   "title_cell": "Table of Contents",
   "title_sidebar": "Contents",
   "toc_cell": false,
   "toc_position": {},
   "toc_section_display": true,
   "toc_window_display": false
  }
 },
 "nbformat": 4,
 "nbformat_minor": 5
}
