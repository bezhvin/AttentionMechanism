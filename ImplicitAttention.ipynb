{
 "cells": [
  {
   "cell_type": "markdown",
   "id": "75c76887",
   "metadata": {},
   "source": [
    "# Implicit attention"
   ]
  },
  {
   "cell_type": "markdown",
   "id": "31371583",
   "metadata": {},
   "source": [
    "The attention mechanism is very intuitive, and its definition could be generally speaking ''ignoring unnecessary information'', or ''attending to necessary information''.\n",
    "This is correct that we as human beings do that too: when we talk to someone we attend to what he/she says and not to other noises around us. (we will get back to this example!)\n",
    "\n",
    "Any machine learning task to be successful needs attention to important/informative inputs; machine learning models require to pick up this attention somehow to deliver a good performance, and actually we may say if a machine learning model is working well it means that it somehow figured out how to learn to attend to necessary information. This is called *implicit attention*, which means the model learns to attend properly without ''explicitly'' designing any attention setup.\n",
    "\n",
    "Let's take a simple linear regression model into account:\n",
    "\n",
    "$$ Y = W^T X + b$$\n",
    "what does this model do? it simply assigns some weights to different input attributes and sum them up (and maybe later apply a function like softmax to convert it to a probability). Let's take an example where there is a lot of attribute but only some of them are informative.\n",
    "\n",
    "Let's use the MNIST dataset\n",
    "\n",
    "\n"
   ]
  },
  {
   "cell_type": "markdown",
   "id": "aca5539f",
   "metadata": {},
   "source": [
    "## Getting MNIST data"
   ]
  },
  {
   "cell_type": "code",
   "execution_count": 7,
   "id": "29da4f24",
   "metadata": {},
   "outputs": [
    {
     "name": "stdout",
     "output_type": "stream",
     "text": [
      "The autoreload extension is already loaded. To reload it, use:\n",
      "  %reload_ext autoreload\n"
     ]
    }
   ],
   "source": [
    "%load_ext autoreload\n",
    "%autoreload 2"
   ]
  },
  {
   "cell_type": "code",
   "execution_count": null,
   "id": "4b0e14ba",
   "metadata": {},
   "outputs": [],
   "source": [
    "class MNIST:\n",
    "    def __init__(self, root:str='./data/mnist'):\n",
    "        if not os.path.isdir(root):\n",
    "            os.makedirs(root)\n",
    "        transform = transforms.Compose([transforms.ToTensor()])\n",
    "        self.train_set = dataset.MNIST(root=root, train=True, transform=transform, download=True)\n",
    "        self.test_set = dataset.MNIST(root=root, train=False, transform=transform, download=True)\n",
    "\n",
    "    def subset_traindata(self, labels:list):\n",
    "        targets = self.train_set.targets\n",
    "        indeces = [i for i in range(len(targets)) if targets[i] in labels]\n",
    "        train_subset = torch.utils.data.Subset(self.train_set, indeces)\n",
    "        return train_subset"
   ]
  },
  {
   "cell_type": "code",
   "execution_count": 76,
   "id": "9fa8a726",
   "metadata": {},
   "outputs": [],
   "source": [
    "from src.data_builder import mnist\n",
    "mnist_data = mnist.MNIST()\n"
   ]
  },
  {
   "cell_type": "code",
   "execution_count": 6,
   "id": "7c20af88",
   "metadata": {},
   "outputs": [
    {
     "data": {
      "image/png": "[encoded data removed]",
      "text/plain": [
       "<Figure size 432x288 with 2 Axes>"
      ]
     },
     "metadata": {
      "needs_background": "light"
     },
     "output_type": "display_data"
    }
   ],
   "source": [
    "from src.visualization.plotting import image_plotting\n",
    "image_plotting([mnist_data.train_set.data[0],mnist_data.train_set.data[1]])"
   ]
  },
  {
   "cell_type": "markdown",
   "id": "18bc0294",
   "metadata": {},
   "source": [
    "To recognize the digit, we need to only attend to some of the pixels, many of the pixels around the images are zero and have no value.\n",
    "\n",
    "Thus if we train a linear logistic regression and the model does a good job in recognizing the digits, it must have figured out to attend to the informative pixels in the center of the image.\n",
    "\n",
    "*Let's try it then*"
   ]
  },
  {
   "cell_type": "code",
   "execution_count": 18,
   "id": "8c3f96e3",
   "metadata": {},
   "outputs": [],
   "source": [
    "import torch\n",
    "import torch.optim as optim\n",
    "import torch.nn as nn\n",
    "from torch.utils.data import DataLoader\n",
    "import torch.nn.functional as F"
   ]
  },
  {
   "cell_type": "markdown",
   "id": "4ea6b66d",
   "metadata": {},
   "source": [
    "## Setting up the experiment data"
   ]
  },
  {
   "cell_type": "markdown",
   "id": "95ecad32",
   "metadata": {},
   "source": [
    "For the sake of demonstration we only take 2 classes of the digits"
   ]
  },
  {
   "cell_type": "code",
   "execution_count": 77,
   "id": "ed8f7e75",
   "metadata": {},
   "outputs": [],
   "source": [
    "batch_size=64\n",
    "subset_data = mnist_data.subset_traindata(labels=[7,9])\n",
    "train_loader = DataLoader(subset_data, batch_size=batch_size, shuffle=True)"
   ]
  },
  {
   "cell_type": "code",
   "execution_count": 124,
   "id": "834bd25d",
   "metadata": {},
   "outputs": [],
   "source": [
    "class LinearClassifier(nn.Module):\n",
    "    def __init__(self, dim, num_output):\n",
    "        super(LinearClassifier,self).__init__()\n",
    "        self.linear_model = nn.Linear(dim*dim, num_output, bias=True, dtype=torch.float64)\n",
    "        \n",
    "    def forward(self, x):\n",
    "        logits = self.linear_model(x.to(torch.float64))\n",
    "        return output\n",
    "\n",
    "lm = LinearClassifier(dim=28, num_output=2)\n",
    "optimizer = optim.Adagrad(lm.parameters(), lr=0.01, weight_decay=1e-1)\n",
    "criterion = torch.nn.CrossEntropyLoss()"
   ]
  },
  {
   "cell_type": "code",
   "execution_count": 125,
   "id": "6c072366",
   "metadata": {},
   "outputs": [],
   "source": [
    "class Trainer:\n",
    "    def __init__(self, model, optimizer, criterion, train_data, num_epoch):\n",
    "        self.model = model\n",
    "        self.optimizer = optimizer\n",
    "        self.criterion = criterion\n",
    "        self.data = train_data\n",
    "        self.num_epoch = num_epoch\n",
    "        self.train_loss=[]\n",
    "        self.val_loss=[]\n",
    "\n",
    "    def run(self, verbose=0):\n",
    "        batch_size = self.data.batch_size\n",
    "        for epoch in range(0,self.num_epoch):\n",
    "            for batch_id, (x, y) in enumerate(self.data):\n",
    "                x = x.flatten(start_dim=1)\n",
    "                y_pred = self.model(x)\n",
    "                loss = self.criterion(y_pred, y)\n",
    "                self.optimizer.zero_grad()\n",
    "                loss.backward()\n",
    "                self.optimizer.step()\n",
    "                self.train_loss.append(loss.item())\n",
    "            if verbose>0: print(f\"epoch {epoch} is ended: train loss {torch.mean(torch.Tensor(self.train_loss))}\")\n",
    "\n"
   ]
  },
  {
   "cell_type": "code",
   "execution_count": 126,
   "id": "1fa5a92c",
   "metadata": {},
   "outputs": [
    {
     "ename": "ValueError",
     "evalue": "Expected input batch_size (11379) to match target batch_size (64).",
     "output_type": "error",
     "traceback": [
      "\u001b[1;31m---------------------------------------------------------------------------\u001b[0m",
      "\u001b[1;31mValueError\u001b[0m                                Traceback (most recent call last)",
      "\u001b[1;32mc:\\Users\\rsahraei\\OneDrive - ASML\\Documents\\document\\collection\\AttentionMechanism\\ImplicitAttention.ipynb Cell 15\u001b[0m line \u001b[0;36m<cell line: 3>\u001b[1;34m()\u001b[0m\n\u001b[0;32m      <a href='vscode-notebook-cell:/c%3A/Users/rsahraei/OneDrive%20-%20ASML/Documents/document/collection/AttentionMechanism/ImplicitAttention.ipynb#Z1433sZmlsZQ%3D%3D?line=0'>1</a>\u001b[0m trainer \u001b[39m=\u001b[39m Trainer(model\u001b[39m=\u001b[39mlm, optimizer\u001b[39m=\u001b[39moptimizer,\n\u001b[0;32m      <a href='vscode-notebook-cell:/c%3A/Users/rsahraei/OneDrive%20-%20ASML/Documents/document/collection/AttentionMechanism/ImplicitAttention.ipynb#Z1433sZmlsZQ%3D%3D?line=1'>2</a>\u001b[0m                   criterion\u001b[39m=\u001b[39mcriterion, train_data\u001b[39m=\u001b[39mtrain_loader, num_epoch \u001b[39m=\u001b[39m \u001b[39m1000\u001b[39m)\n\u001b[1;32m----> <a href='vscode-notebook-cell:/c%3A/Users/rsahraei/OneDrive%20-%20ASML/Documents/document/collection/AttentionMechanism/ImplicitAttention.ipynb#Z1433sZmlsZQ%3D%3D?line=2'>3</a>\u001b[0m trainer\u001b[39m.\u001b[39;49mrun(verbose\u001b[39m=\u001b[39;49m\u001b[39m1\u001b[39;49m)\n",
      "\u001b[1;32mc:\\Users\\rsahraei\\OneDrive - ASML\\Documents\\document\\collection\\AttentionMechanism\\ImplicitAttention.ipynb Cell 15\u001b[0m line \u001b[0;36mTrainer.run\u001b[1;34m(self, verbose)\u001b[0m\n\u001b[0;32m     <a href='vscode-notebook-cell:/c%3A/Users/rsahraei/OneDrive%20-%20ASML/Documents/document/collection/AttentionMechanism/ImplicitAttention.ipynb#Z1433sZmlsZQ%3D%3D?line=14'>15</a>\u001b[0m x \u001b[39m=\u001b[39m x\u001b[39m.\u001b[39mflatten(start_dim\u001b[39m=\u001b[39m\u001b[39m1\u001b[39m)\n\u001b[0;32m     <a href='vscode-notebook-cell:/c%3A/Users/rsahraei/OneDrive%20-%20ASML/Documents/document/collection/AttentionMechanism/ImplicitAttention.ipynb#Z1433sZmlsZQ%3D%3D?line=15'>16</a>\u001b[0m y_pred \u001b[39m=\u001b[39m \u001b[39mself\u001b[39m\u001b[39m.\u001b[39mmodel(x)\n\u001b[1;32m---> <a href='vscode-notebook-cell:/c%3A/Users/rsahraei/OneDrive%20-%20ASML/Documents/document/collection/AttentionMechanism/ImplicitAttention.ipynb#Z1433sZmlsZQ%3D%3D?line=16'>17</a>\u001b[0m loss \u001b[39m=\u001b[39m \u001b[39mself\u001b[39;49m\u001b[39m.\u001b[39;49mcriterion(y_pred, y)\n\u001b[0;32m     <a href='vscode-notebook-cell:/c%3A/Users/rsahraei/OneDrive%20-%20ASML/Documents/document/collection/AttentionMechanism/ImplicitAttention.ipynb#Z1433sZmlsZQ%3D%3D?line=17'>18</a>\u001b[0m \u001b[39mself\u001b[39m\u001b[39m.\u001b[39moptimizer\u001b[39m.\u001b[39mzero_grad()\n\u001b[0;32m     <a href='vscode-notebook-cell:/c%3A/Users/rsahraei/OneDrive%20-%20ASML/Documents/document/collection/AttentionMechanism/ImplicitAttention.ipynb#Z1433sZmlsZQ%3D%3D?line=18'>19</a>\u001b[0m loss\u001b[39m.\u001b[39mbackward()\n",
      "File \u001b[1;32mc:\\Localdata\\install\\anaconda\\install\\envs\\myenv\\lib\\site-packages\\torch\\nn\\modules\\module.py:1130\u001b[0m, in \u001b[0;36mModule._call_impl\u001b[1;34m(self, *input, **kwargs)\u001b[0m\n\u001b[0;32m   1126\u001b[0m \u001b[39m# If we don't have any hooks, we want to skip the rest of the logic in\u001b[39;00m\n\u001b[0;32m   1127\u001b[0m \u001b[39m# this function, and just call forward.\u001b[39;00m\n\u001b[0;32m   1128\u001b[0m \u001b[39mif\u001b[39;00m \u001b[39mnot\u001b[39;00m (\u001b[39mself\u001b[39m\u001b[39m.\u001b[39m_backward_hooks \u001b[39mor\u001b[39;00m \u001b[39mself\u001b[39m\u001b[39m.\u001b[39m_forward_hooks \u001b[39mor\u001b[39;00m \u001b[39mself\u001b[39m\u001b[39m.\u001b[39m_forward_pre_hooks \u001b[39mor\u001b[39;00m _global_backward_hooks\n\u001b[0;32m   1129\u001b[0m         \u001b[39mor\u001b[39;00m _global_forward_hooks \u001b[39mor\u001b[39;00m _global_forward_pre_hooks):\n\u001b[1;32m-> 1130\u001b[0m     \u001b[39mreturn\u001b[39;00m forward_call(\u001b[39m*\u001b[39m\u001b[39minput\u001b[39m, \u001b[39m*\u001b[39m\u001b[39m*\u001b[39mkwargs)\n\u001b[0;32m   1131\u001b[0m \u001b[39m# Do not call functions when jit is used\u001b[39;00m\n\u001b[0;32m   1132\u001b[0m full_backward_hooks, non_full_backward_hooks \u001b[39m=\u001b[39m [], []\n",
      "File \u001b[1;32mc:\\Localdata\\install\\anaconda\\install\\envs\\myenv\\lib\\site-packages\\torch\\nn\\modules\\loss.py:1164\u001b[0m, in \u001b[0;36mCrossEntropyLoss.forward\u001b[1;34m(self, input, target)\u001b[0m\n\u001b[0;32m   1163\u001b[0m \u001b[39mdef\u001b[39;00m \u001b[39mforward\u001b[39m(\u001b[39mself\u001b[39m, \u001b[39minput\u001b[39m: Tensor, target: Tensor) \u001b[39m-\u001b[39m\u001b[39m>\u001b[39m Tensor:\n\u001b[1;32m-> 1164\u001b[0m     \u001b[39mreturn\u001b[39;00m F\u001b[39m.\u001b[39;49mcross_entropy(\u001b[39minput\u001b[39;49m, target, weight\u001b[39m=\u001b[39;49m\u001b[39mself\u001b[39;49m\u001b[39m.\u001b[39;49mweight,\n\u001b[0;32m   1165\u001b[0m                            ignore_index\u001b[39m=\u001b[39;49m\u001b[39mself\u001b[39;49m\u001b[39m.\u001b[39;49mignore_index, reduction\u001b[39m=\u001b[39;49m\u001b[39mself\u001b[39;49m\u001b[39m.\u001b[39;49mreduction,\n\u001b[0;32m   1166\u001b[0m                            label_smoothing\u001b[39m=\u001b[39;49m\u001b[39mself\u001b[39;49m\u001b[39m.\u001b[39;49mlabel_smoothing)\n",
      "File \u001b[1;32mc:\\Localdata\\install\\anaconda\\install\\envs\\myenv\\lib\\site-packages\\torch\\nn\\functional.py:3014\u001b[0m, in \u001b[0;36mcross_entropy\u001b[1;34m(input, target, weight, size_average, ignore_index, reduce, reduction, label_smoothing)\u001b[0m\n\u001b[0;32m   3012\u001b[0m \u001b[39mif\u001b[39;00m size_average \u001b[39mis\u001b[39;00m \u001b[39mnot\u001b[39;00m \u001b[39mNone\u001b[39;00m \u001b[39mor\u001b[39;00m reduce \u001b[39mis\u001b[39;00m \u001b[39mnot\u001b[39;00m \u001b[39mNone\u001b[39;00m:\n\u001b[0;32m   3013\u001b[0m     reduction \u001b[39m=\u001b[39m _Reduction\u001b[39m.\u001b[39mlegacy_get_string(size_average, reduce)\n\u001b[1;32m-> 3014\u001b[0m \u001b[39mreturn\u001b[39;00m torch\u001b[39m.\u001b[39;49m_C\u001b[39m.\u001b[39;49m_nn\u001b[39m.\u001b[39;49mcross_entropy_loss(\u001b[39minput\u001b[39;49m, target, weight, _Reduction\u001b[39m.\u001b[39;49mget_enum(reduction), ignore_index, label_smoothing)\n",
      "\u001b[1;31mValueError\u001b[0m: Expected input batch_size (11379) to match target batch_size (64)."
     ]
    }
   ],
   "source": [
    "trainer = Trainer(model=lm, optimizer=optimizer,\n",
    "                  criterion=criterion, train_data=train_loader, num_epoch = 1000)\n",
    "trainer.run(verbose=1)"
   ]
  },
  {
   "cell_type": "code",
   "execution_count": 118,
   "id": "95717817",
   "metadata": {},
   "outputs": [
    {
     "data": {
      "text/plain": [
       "tensor([], size=(0, 28, 28), dtype=torch.float64)"
      ]
     },
     "execution_count": 118,
     "metadata": {},
     "output_type": "execute_result"
    }
   ],
   "source": [
    "train_set = mnist_data.train_set\n",
    "small_train_x"
   ]
  },
  {
   "cell_type": "code",
   "execution_count": 119,
   "id": "bc43a75f",
   "metadata": {},
   "outputs": [],
   "source": [
    "# lets take 2 classes\n",
    "class1_label = 2\n",
    "class2_label = 5\n",
    "# index the labels with integers:\n",
    "small_dataset_idx = (train_set.targets == class1_label) | (train_set.targets == class2_label)\n",
    "small_train_x = train_set.data[small_dataset_idx].to(torch.float64)\n",
    "small_train_y = train_set.targets[small_dataset_idx].long()\n",
    "small_train_y[small_train_y==class1_label]=0\n",
    "small_train_y[small_train_y==class2_label]=1\n",
    "\n",
    "num_samples, dim, _ = small_train_x.shape\n",
    "output_size = small_train_y.unique().size()"
   ]
  },
  {
   "cell_type": "markdown",
   "id": "6061d179",
   "metadata": {},
   "source": [
    "for the logistic regression model we need to convert the image into a vector:"
   ]
  },
  {
   "cell_type": "code",
   "execution_count": 120,
   "id": "92fed6cf",
   "metadata": {},
   "outputs": [],
   "source": [
    "# vectorizing the images\n",
    "small_train_x_vector = torch.reshape(small_train_x,(num_samples, dim*dim))"
   ]
  },
  {
   "cell_type": "markdown",
   "id": "0623e815",
   "metadata": {},
   "source": [
    "## Modeling logistic regression"
   ]
  },
  {
   "cell_type": "markdown",
   "id": "0285f37b",
   "metadata": {},
   "source": [
    "We use torch APIs to train the model:"
   ]
  },
  {
   "cell_type": "code",
   "execution_count": 121,
   "id": "ef33ba58",
   "metadata": {
    "scrolled": true
   },
   "outputs": [],
   "source": [
    "# lets fit a linear model\n",
    "LinearTransform = torch.nn.Linear(dim*dim, 2, bias=True, dtype=torch.float64)\n",
    "output = torch.log_softmax(LinearTransform(small_train_x_vector), dim=1)"
   ]
  },
  {
   "cell_type": "code",
   "execution_count": 122,
   "id": "506e77ce",
   "metadata": {},
   "outputs": [
    {
     "data": {
      "text/plain": [
       "tensor([[0., 0., 0.,  ..., 0., 0., 0.],\n",
       "        [0., 0., 0.,  ..., 0., 0., 0.],\n",
       "        [0., 0., 0.,  ..., 0., 0., 0.],\n",
       "        ...,\n",
       "        [0., 0., 0.,  ..., 0., 0., 0.],\n",
       "        [0., 0., 0.,  ..., 0., 0., 0.],\n",
       "        [0., 0., 0.,  ..., 0., 0., 0.]], dtype=torch.float64)"
      ]
     },
     "execution_count": 122,
     "metadata": {},
     "output_type": "execute_result"
    }
   ],
   "source": [
    "small_train_x_vector"
   ]
  },
  {
   "cell_type": "code",
   "execution_count": 123,
   "id": "959a7242",
   "metadata": {
    "scrolled": false
   },
   "outputs": [
    {
     "data": {
      "text/plain": [
       "tensor(0.6545, dtype=torch.float64, grad_fn=<NllLossBackward0>)"
      ]
     },
     "execution_count": 123,
     "metadata": {},
     "output_type": "execute_result"
    }
   ],
   "source": [
    "num_epoch=1000\n",
    "train_losses=[]\n",
    "for i in range(num_epoch):\n",
    "    y_pred = torch.sigmoid(LinearTransform(small_train_x_vector))\n",
    "    loss = criterion(y_pred, small_train_y)\n",
    "    optimizer.zero_grad()\n",
    "    loss.backward()\n",
    "    optimizer.step()\n",
    "    train_losses.append(loss.item())\n",
    "loss"
   ]
  },
  {
   "cell_type": "markdown",
   "id": "a8b3091e",
   "metadata": {},
   "source": [
    "As we discussed above, the weights in a linear regression model reflects how the model attends to the input features implicitly. So let's visualize the weights:\n",
    "\n",
    "**NOTE**: in this model we have two classes and two output nodes, and therefore we have two sets of weights each maps the pixels to one of the output nodes."
   ]
  },
  {
   "cell_type": "code",
   "execution_count": 21,
   "id": "e7e3fe56",
   "metadata": {},
   "outputs": [
    {
     "data": {
      "image/png": "[encoded data removed]",
      "text/plain": [
       "<Figure size 432x288 with 3 Axes>"
      ]
     },
     "metadata": {
      "needs_background": "light"
     },
     "output_type": "display_data"
    }
   ],
   "source": [
    "weights = list(LinearTransform.parameters())[0]\n",
    "fig, ax = plt.subplots(1,2)\n",
    "for output in range(0,2):\n",
    "    im = ax[output].imshow(torch.reshape(weights.data[output],(dim,dim)))\n",
    "_ = fig.colorbar(im,ax=ax.ravel().tolist(), fraction=0.02)"
   ]
  },
  {
   "cell_type": "markdown",
   "id": "905e3be3",
   "metadata": {},
   "source": [
    "The plots above show that the weights are learned to extract information mainly from the center of the images, and the learned weights for the pixels off the center are almost equal (and close to zero).\n",
    "\n",
    "This is an example of implicit attention: we have not made any extra design in the model, and the model learns to attend well to deliver a good performance.\n",
    "Here the model is simple, but the task also is not very difficult; if the task is more difficult, we need to use a more complicated model to get a reasonable performance. "
   ]
  },
  {
   "cell_type": "markdown",
   "id": "752f2b08",
   "metadata": {},
   "source": [
    "## Modeling a CNN"
   ]
  },
  {
   "cell_type": "markdown",
   "id": "dfdcee41",
   "metadata": {},
   "source": [
    "Let's stick with the MNIST data set, but take the whole 10 classes. This is still not a very difficult task, but we may need a more complex model to get a good performance. A simple CNN model works pretty good for MNIST. Here we make a CNN model:  "
   ]
  },
  {
   "cell_type": "code",
   "execution_count": 22,
   "id": "e65258b5",
   "metadata": {},
   "outputs": [],
   "source": [
    "num_classes= 10\n",
    "train_loader = DataLoader(train_set, batch_size=64, shuffle=True)"
   ]
  },
  {
   "cell_type": "code",
   "execution_count": 23,
   "id": "e5411992",
   "metadata": {},
   "outputs": [],
   "source": [
    "class NNet(nn.Module):\n",
    "    def __init__(self, n_classes):\n",
    "        super(NNet, self).__init__()\n",
    "        self.feature_extractor = nn.Sequential(\n",
    "        nn.Conv2d(1,10,kernel_size=5),\n",
    "        nn.MaxPool2d(kernel_size=2),\n",
    "        nn.ReLU(),\n",
    "        nn.Conv2d(10,20, kernel_size=5),\n",
    "        nn.Dropout2d(),\n",
    "        nn.MaxPool2d(kernel_size=2),\n",
    "        nn.ReLU()\n",
    "        )\n",
    "        \n",
    "        self.classifier=nn.Sequential(\n",
    "        nn.Linear(320,50),\n",
    "        nn.ReLU(),\n",
    "        nn.Dropout(),\n",
    "        nn.Linear(50,n_classes)\n",
    "        )\n",
    "        \n",
    "    \n",
    "    def forward(self,x):\n",
    "        x = self.feature_extractor(x)\n",
    "        x = torch.flatten(x,1)\n",
    "        logits = self.classifier(x)\n",
    "        probs = F.log_softmax(logits,dim=1)\n",
    "        return probs"
   ]
  },
  {
   "cell_type": "code",
   "execution_count": 24,
   "id": "8d675389",
   "metadata": {},
   "outputs": [],
   "source": [
    "network = NNet(num_classes)\n",
    "optimizer = optim.Adagrad(network.parameters(), lr=0.1, weight_decay=1e-10)\n",
    "criterion = torch.nn.CrossEntropyLoss()\n"
   ]
  },
  {
   "cell_type": "code",
   "execution_count": 25,
   "id": "2ac50dee",
   "metadata": {
    "scrolled": true
   },
   "outputs": [
    {
     "name": "stdout",
     "output_type": "stream",
     "text": [
      "epoch 1: loss = 2.326418161392212\n",
      "epoch 1: loss = 0.6355805993080139\n",
      "epoch 2: loss = 0.27389445900917053\n",
      "epoch 2: loss = 0.32802799344062805\n",
      "epoch 3: loss = 0.21118666231632233\n",
      "epoch 3: loss = 0.22996285557746887\n",
      "epoch 4: loss = 0.5050382018089294\n",
      "epoch 4: loss = 0.3011983335018158\n",
      "epoch 5: loss = 0.3362125754356384\n",
      "epoch 5: loss = 0.22282220423221588\n"
     ]
    }
   ],
   "source": [
    "network.train()\n",
    "loss_track=[]\n",
    "num_epoch=5\n",
    "\n",
    "for epoch in range(0,num_epoch):\n",
    "    for batch_id, (X, y) in enumerate(train_loader):\n",
    "        optimizer.zero_grad()\n",
    "        y_pred = network(X)\n",
    "        loss = criterion(y_pred, y)\n",
    "        loss.backward()\n",
    "        optimizer.step()\n",
    "        loss_track.append(loss.detach().numpy())   \n",
    "        if batch_id % 500 == 0:\n",
    "            print(f'epoch {epoch+1}: loss = {loss}')   "
   ]
  },
  {
   "cell_type": "markdown",
   "id": "47eb0308",
   "metadata": {},
   "source": [
    "For the logistic regression model, we directly looked into the weights to investigate how well the model attends to the right inputs. How should we check the model's attention for more complex models like the CNN we trained above?\n",
    "\n",
    "The answer is by calculating the Jacobian matrix. For each output input pair ($x_i, y_j$), the *ij*th element of the Jacobian matrix is:\n",
    "\n",
    "$$\n",
    "\\frac{\\partial y_j}{\\partial x_i}\n",
    "$$\n",
    "\n",
    "if the model has been trained to attend to $x_i$ as an important feature to predict $y_j$, the corresponding derivative should be high.\n",
    "\n",
    "For the simple logistic regression model, we see that the weights $W$ equate to the Jacobian matrix.\n",
    "\n",
    "Thanks to Pytorch, calculating the Jacobian matrix is pretty straightforward. "
   ]
  },
  {
   "cell_type": "code",
   "execution_count": 26,
   "id": "835a7596",
   "metadata": {
    "scrolled": true
   },
   "outputs": [],
   "source": [
    "ind=1 ## choosing an input image (arbitrarily)\n",
    "Jacobian_mat = torch.autograd.functional.jacobian(network, X[[ind]]).view(10,28,28)"
   ]
  },
  {
   "cell_type": "markdown",
   "id": "fd52b319",
   "metadata": {},
   "source": [
    "Let's visualize the Jacobian matrix elements:"
   ]
  },
  {
   "cell_type": "code",
   "execution_count": 27,
   "id": "01ec0525",
   "metadata": {
    "scrolled": false
   },
   "outputs": [
    {
     "data": {
      "image/png": "[encoded data removed]",
      "text/plain": [
       "<Figure size 2160x2160 with 11 Axes>"
      ]
     },
     "metadata": {
      "needs_background": "light"
     },
     "output_type": "display_data"
    }
   ],
   "source": [
    "fig, ax = plt.subplots(1,num_classes, figsize=(30,30))\n",
    "for i in range(num_classes):\n",
    "    ax[i].imshow(Jacobian_mat[i])\n",
    "    ax[i].set_title(f'output {i}')\n",
    "_ = plt.colorbar(im,ax=ax.ravel().tolist(), fraction=0.01)"
   ]
  },
  {
   "cell_type": "markdown",
   "id": "cde5d74c",
   "metadata": {},
   "source": [
    "Again we can see that the main attention is on the center of the images. Note that unlike the logistic regression model the attention pattern varies by input (change the \"ind\" variable and check it out), because the model is more complex and potentially can perform better through a more subtle implicit attention."
   ]
  },
  {
   "cell_type": "code",
   "execution_count": null,
   "id": "24305359",
   "metadata": {},
   "outputs": [],
   "source": []
  }
 ],
 "metadata": {
  "kernelspec": {
   "display_name": "Python 3 (ipykernel)",
   "language": "python",
   "name": "python3"
  },
  "language_info": {
   "codemirror_mode": {
    "name": "ipython",
    "version": 3
   },
   "file_extension": ".py",
   "mimetype": "text/x-python",
   "name": "python",
   "nbconvert_exporter": "python",
   "pygments_lexer": "ipython3",
   "version": "3.9.12"
  },
  "toc": {
   "base_numbering": 1,
   "nav_menu": {},
   "number_sections": true,
   "sideBar": true,
   "skip_h1_title": false,
   "title_cell": "Table of Contents",
   "title_sidebar": "Contents",
   "toc_cell": false,
   "toc_position": {},
   "toc_section_display": true,
   "toc_window_display": false
  }
 },
 "nbformat": 4,
 "nbformat_minor": 5
}
