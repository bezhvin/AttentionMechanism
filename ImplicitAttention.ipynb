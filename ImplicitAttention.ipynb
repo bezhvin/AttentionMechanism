{
  "cells": [
    {
      "cell_type": "markdown",
      "metadata": {
        "id": "view-in-github",
        "colab_type": "text"
      },
      "source": [
        "<a href=\"https://colab.research.google.com/github/bezhvin/AttentionMechanism/blob/main/ImplicitAttention.ipynb\" target=\"_parent\"><img src=\"https://colab.research.google.com/assets/colab-badge.svg\" alt=\"Open In Colab\"/></a>"
      ]
    },
    {
      "cell_type": "markdown",
      "id": "989733de",
      "metadata": {
        "id": "989733de"
      },
      "source": [
        "# Implicit attention"
      ]
    },
    {
      "cell_type": "markdown",
      "id": "765d5f34",
      "metadata": {
        "id": "765d5f34"
      },
      "source": [
        "The attention mechanism is very intuitive, and its definition could be generally speaking ''ignoring unnecessary information'', or ''attending to necessary information''.\n",
        "This is correct that we as human beings do that too: when we talk to someone we attend to what he/she says and not to other noises around us. (we will get back to this example!)\n",
        "\n",
        "Any task to be successful needs attention to important/informative inputs; machine learning models require to pick up this attention somehow to deliver a good performance, and actually we may say if a machine learning model is working well it means that it somehow figured out how to attend to necessary information during its training. This may be called *implicit attention*, which means the model learns to attend properly without ''explicitly'' designing any attention setup.\n",
        "\n",
        "Let's take a simple linear regression model into account:\n",
        "\n",
        "$$ Y = W^T X + b$$\n",
        "what does this model do? it simply assigns some weights to different input attributes and sum them up (and maybe later apply a function like softmax to convert it to a probability). Let's assume we have a lot of attributes but only some of them are informative; for example look at the images below: "
      ]
    },
    {
      "cell_type": "markdown",
      "id": "7f83fe75",
      "metadata": {
        "id": "7f83fe75"
      },
      <img src="https://github.com/bezhvin/AttentionMechanism/blob/main/data/img/example.png", width="800">
      "source": [
        "- | -\n",
        "- | - \n"
        "![alternative text](https://github.com/bezhvin/AttentionMechanism/blob/main/data/img/example.png) | ![alternative text](https://github.com/bezhvin/AttentionMechanism/blob/main/data/img/example1.png?raw=1)"
      ]
    },
    {
      "cell_type": "markdown",
      "id": "a73b490e",
      "metadata": {
        "id": "a73b490e"
      },
      "source": [
        "To recognize the digit, we need to only attend to some of the pixels, many of the pixels around the images are zero and have no value.\n",
        "\n",
        "Thus if we train a linear logistic regression and the model does a good job in recognizing the digits, it must have figured out to only attend to the informative pixels in the center of the image.\n",
        "\n",
        "*Let's try it then*"
      ]
    },
    {
      "cell_type": "code",
      "execution_count": null,
      "id": "8c3f96e3",
      "metadata": {
        "id": "8c3f96e3"
      },
      "outputs": [],
      "source": [
        "import torch\n",
        "import torchvision.datasets as dataset\n",
        "import torchvision.transforms as transforms\n",
        "import torch.optim as optim\n",
        "import torch.nn as nn\n",
        "from torch.utils.data import DataLoader\n",
        "import torch.nn.functional as F\n",
        "import matplotlib.pyplot as plt"
      ]
    },
    {
      "cell_type": "markdown",
      "id": "4ea6b66d",
      "metadata": {
        "id": "4ea6b66d"
      },
      "source": [
        "# Get the MNIST data"
      ]
    },
    {
      "cell_type": "code",
      "execution_count": null,
      "id": "61c5efc0",
      "metadata": {
        "id": "61c5efc0"
      },
      "outputs": [],
      "source": [
        "# getting the MNIST data"
      ]
    },
    {
      "cell_type": "code",
      "execution_count": null,
      "id": "f52951dc",
      "metadata": {
        "id": "f52951dc"
      },
      "outputs": [],
      "source": [
        "root='./data/mnist'\n",
        "Trans = transforms.Compose([transforms.ToTensor()])\n",
        "train_set = dataset.MNIST(root=root, train=True, transform=Trans, download=True)\n",
        "test_set = dataset.MNIST(root=root, train=False, transform=Trans, download=True)"
      ]
    },
    {
      "cell_type": "markdown",
      "id": "9907473f",
      "metadata": {
        "id": "9907473f"
      },
      "source": [
        "For the sake of demonstration we only take 2 classes of the digits"
      ]
    },
    {
      "cell_type": "code",
      "execution_count": null,
      "id": "bc43a75f",
      "metadata": {
        "id": "bc43a75f"
      },
      "outputs": [],
      "source": [
        "# lets take 2 classes\n",
        "class1_label = 7\n",
        "class2_label = 9\n",
        "# index the labels with integers:\n",
        "small_dataset_idx = (train_set.targets == class1_label) | (train_set.targets == class2_label)\n",
        "small_train_x = train_set.data[small_dataset_idx].to(torch.float64)\n",
        "small_train_y = train_set.targets[small_dataset_idx].long()\n",
        "small_train_y[small_train_y==class1_label]=0\n",
        "small_train_y[small_train_y==class2_label]=1\n",
        "\n",
        "num_samples, dim, _ = small_train_x.shape\n",
        "output_size = small_train_y.unique().size()"
      ]
    },
    {
      "cell_type": "markdown",
      "id": "73bb586d",
      "metadata": {
        "id": "73bb586d"
      },
      "source": [
        "for the logistic regression model we need to convert the image into a vector:"
      ]
    },
    {
      "cell_type": "code",
      "execution_count": null,
      "id": "92fed6cf",
      "metadata": {
        "id": "92fed6cf"
      },
      "outputs": [],
      "source": [
        "# vectorizing the images\n",
        "small_train_x_vector = torch.reshape(small_train_x,(num_samples, dim*dim))"
      ]
    },
    {
      "cell_type": "markdown",
      "id": "0623e815",
      "metadata": {
        "id": "0623e815"
      },
      "source": [
        "# Modeling logistic regression"
      ]
    },
    {
      "cell_type": "markdown",
      "id": "c2682630",
      "metadata": {
        "id": "c2682630"
      },
      "source": [
        "We use torch APIs to train the model:"
      ]
    },
    {
      "cell_type": "code",
      "execution_count": null,
      "id": "ef33ba58",
      "metadata": {
        "scrolled": true,
        "id": "ef33ba58"
      },
      "outputs": [],
      "source": [
        "# lets fit a linear model\n",
        "LinearTransform = torch.nn.Linear(dim*dim, 2, bias=True, dtype=torch.float64)\n",
        "output = torch.log_softmax(LinearTransform(small_train_x_vector), dim=1)"
      ]
    },
    {
      "cell_type": "code",
      "execution_count": null,
      "id": "b8348d4b",
      "metadata": {
        "id": "b8348d4b"
      },
      "outputs": [],
      "source": [
        "optimizer = optim.Adagrad(LinearTransform.parameters(), lr=0.001, weight_decay=1e-1)\n",
        "criterion = torch.nn.CrossEntropyLoss()"
      ]
    },
    {
      "cell_type": "code",
      "execution_count": null,
      "id": "959a7242",
      "metadata": {
        "scrolled": false,
        "id": "959a7242"
      },
      "outputs": [],
      "source": [
        "num_epoch=1000\n",
        "train_losses=[]\n",
        "for i in range(num_epoch):\n",
        "    y_pred = torch.sigmoid(LinearTransform(small_train_x_vector))\n",
        "    loss = criterion(y_pred, small_train_y)\n",
        "    optimizer.zero_grad()\n",
        "    loss.backward()\n",
        "    optimizer.step()\n",
        "    train_losses.append(loss.item())"
      ]
    },
    {
      "cell_type": "markdown",
      "id": "22884b8d",
      "metadata": {
        "id": "22884b8d"
      },
      "source": [
        "As we discussed above, the weights in a linear regression model reflects how the model attends to the input features implicitly. So let's visualize the weights:\n",
        "\n",
        "**NOTE**: in this model we have two classes and two output nodes, and therefore we have two sets of weights each maps the pixels to one of the output nodes."
      ]
    },
    {
      "cell_type": "code",
      "execution_count": null,
      "id": "e7e3fe56",
      "metadata": {
        "id": "e7e3fe56",
        "outputId": "8bc930c9-7a0f-4451-d8b7-6dbd33bd6d63"
      },
      "outputs": [
        {
          "data": {
            "image/png": "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\n",
            "text/plain": [
              "<Figure size 432x288 with 3 Axes>"
            ]
          },
          "metadata": {
            "needs_background": "light"
          },
          "output_type": "display_data"
        }
      ],
      "source": [
        "weights = list(LinearTransform.parameters())[0]\n",
        "fig, ax = plt.subplots(1,2)\n",
        "for output in range(0,2):\n",
        "    im = ax[output].imshow(torch.reshape(weights.data[output],(dim,dim)))\n",
        "_ = fig.colorbar(im,ax=ax.ravel().tolist(), fraction=0.02)"
      ]
    },
    {
      "cell_type": "markdown",
      "id": "278ac25a",
      "metadata": {
        "id": "278ac25a"
      },
      "source": [
        "The figure above shows that the weights are learned to extract information mainly from the center of the images, and the learned weights for the pixels off the center are almost equal (and close to zero).\n",
        "\n",
        "This is an example of implicit attention: we have not made any extra design in the model. Here the model is simple, but the task also is not very difficult; if the task is more difficult, we need to use a more complicated model to get a reasonable performance. "
      ]
    },
    {
      "cell_type": "markdown",
      "id": "752f2b08",
      "metadata": {
        "id": "752f2b08"
      },
      "source": [
        "# Modeling a CNN"
      ]
    },
    {
      "cell_type": "markdown",
      "id": "a190ce95",
      "metadata": {
        "id": "a190ce95"
      },
      "source": [
        "Let's stick with the MNIST data set, but take the whole 10 classes. This is still not a very difficult task, but we may need a more complex model to get a good performance. A simple CNN model works pretty good for MNIST. Here we make a CNN model:  "
      ]
    },
    {
      "cell_type": "code",
      "execution_count": null,
      "id": "e65258b5",
      "metadata": {
        "id": "e65258b5"
      },
      "outputs": [],
      "source": [
        "num_classes= 10\n",
        "train_loader = DataLoader(train_set, batch_size=64, shuffle=True)"
      ]
    },
    {
      "cell_type": "code",
      "execution_count": null,
      "id": "e5411992",
      "metadata": {
        "id": "e5411992"
      },
      "outputs": [],
      "source": [
        "class NNet(nn.Module):\n",
        "    def __init__(self, n_classes):\n",
        "        super(NNet, self).__init__()\n",
        "        self.feature_extractor = nn.Sequential(\n",
        "        nn.Conv2d(1,10,kernel_size=5),\n",
        "        nn.MaxPool2d(kernel_size=2),\n",
        "        nn.ReLU(),\n",
        "        nn.Conv2d(10,20, kernel_size=5),\n",
        "        nn.Dropout2d(),\n",
        "        nn.MaxPool2d(kernel_size=2),\n",
        "        nn.ReLU()\n",
        "        )\n",
        "        \n",
        "        self.classifier=nn.Sequential(\n",
        "        nn.Linear(320,50),\n",
        "        nn.ReLU(),\n",
        "        nn.Dropout(),\n",
        "        nn.Linear(50,n_classes)\n",
        "        )\n",
        "        \n",
        "    \n",
        "    def forward(self,x):\n",
        "        x = self.feature_extractor(x)\n",
        "        x = torch.flatten(x,1)\n",
        "        logits = self.classifier(x)\n",
        "        probs = F.log_softmax(logits,dim=1)\n",
        "        return probs"
      ]
    },
    {
      "cell_type": "code",
      "execution_count": null,
      "id": "8d675389",
      "metadata": {
        "id": "8d675389"
      },
      "outputs": [],
      "source": [
        "network = NNet(num_classes)\n",
        "optimizer = optim.Adagrad(network.parameters(), lr=0.1, weight_decay=1e-10)\n",
        "criterion = torch.nn.CrossEntropyLoss()\n"
      ]
    },
    {
      "cell_type": "code",
      "execution_count": null,
      "id": "2ac50dee",
      "metadata": {
        "scrolled": true,
        "id": "2ac50dee",
        "outputId": "b939d357-d97b-469c-8d92-3a5a3a1a12af"
      },
      "outputs": [
        {
          "name": "stdout",
          "output_type": "stream",
          "text": [
            "epoch 1: loss = 2.2988219261169434\n",
            "epoch 1: loss = 0.46780166029930115\n",
            "epoch 2: loss = 0.31457579135894775\n",
            "epoch 2: loss = 0.3110682964324951\n",
            "epoch 3: loss = 0.47862914204597473\n",
            "epoch 3: loss = 0.31504443287849426\n",
            "epoch 4: loss = 0.17281199991703033\n",
            "epoch 4: loss = 0.19976769387722015\n",
            "epoch 5: loss = 0.38084813952445984\n",
            "epoch 5: loss = 0.26957985758781433\n"
          ]
        }
      ],
      "source": [
        "network.train()\n",
        "loss_track=[]\n",
        "num_epoch=5\n",
        "\n",
        "for epoch in range(0,num_epoch):\n",
        "    for batch_id, (X, y) in enumerate(train_loader):\n",
        "        optimizer.zero_grad()\n",
        "        y_pred = network(X)\n",
        "        loss = criterion(y_pred, y)\n",
        "        loss.backward()\n",
        "        optimizer.step()\n",
        "        loss_track.append(loss.detach().numpy())   \n",
        "        if batch_id % 500 == 0:\n",
        "            print(f'epoch {epoch+1}: loss = {loss}')   "
      ]
    },
    {
      "cell_type": "markdown",
      "id": "385146db",
      "metadata": {
        "id": "385146db"
      },
      "source": [
        "For the logistic regression model, we directly looked into the weights to investigate how well the model attends to the right inputs. How should we check the model's attention for more complex models like the CNN we trained above?\n",
        "\n",
        "The answer is by calculating the Jacobian matrix. For each output input pair ($y_j, x_i$), the *ij*th element of the Jacobian matrix is:\n",
        "\n",
        "$$\n",
        "\\frac{\\partial y_j}{\\partial x_i}\n",
        "$$\n",
        "\n",
        "if the model has been trained to attend to $x_i$ as an important feature to predict $y_j$, the corresponding derivative should be high.\n",
        "\n",
        "For the simple logistic regression model, we see that the weights $W$ equate to the Jacobian matrix."
      ]
    },
    {
      "cell_type": "code",
      "execution_count": null,
      "id": "835a7596",
      "metadata": {
        "scrolled": true,
        "id": "835a7596"
      },
      "outputs": [],
      "source": [
        "ind=1 ## choosing an input image (arbitrarily)\n",
        "Jacobian_mat = torch.autograd.functional.jacobian(network, X[[ind]]).view(10,28,28)"
      ]
    },
    {
      "cell_type": "markdown",
      "id": "0645f5cb",
      "metadata": {
        "id": "0645f5cb"
      },
      "source": [
        "Let's visualize the Jacobian matrix elements:"
      ]
    },
    {
      "cell_type": "code",
      "execution_count": null,
      "id": "2f8fadf6",
      "metadata": {
        "scrolled": false,
        "id": "2f8fadf6",
        "outputId": "e34415ae-cf44-4ff2-dcfc-9a3c3eef4008"
      },
      "outputs": [
        {
          "data": {
            "image/png": "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\n",
            "text/plain": [
              "<Figure size 2160x2160 with 11 Axes>"
            ]
          },
          "metadata": {
            "needs_background": "light"
          },
          "output_type": "display_data"
        }
      ],
      "source": [
        "fig, ax = plt.subplots(1,num_classes, figsize=(30,30))\n",
        "for i in range(num_classes):\n",
        "    ax[i].imshow(Jacobian_mat[i])\n",
        "    ax[i].set_title(f'output {i}')\n",
        "_ = plt.colorbar(im,ax=ax.ravel().tolist(), fraction=0.01)"
      ]
    },
    {
      "cell_type": "markdown",
      "id": "cd2a7a32",
      "metadata": {
        "id": "cd2a7a32"
      },
      "source": [
        "Again we can see that the main attention is on the center of the images. Note that unlike the logistic regression model the attention pattern varies by input (change the \"ind\" variable and check it out), because the model is more complex and potentially can perform better through a more subtle implicit attention."
      ]
    },
    {
      "cell_type": "code",
      "execution_count": null,
      "id": "7f9d6bd8",
      "metadata": {
        "id": "7f9d6bd8"
      },
      "outputs": [],
      "source": []
    }
  ],
  "metadata": {
    "kernelspec": {
      "display_name": "Python 3 (ipykernel)",
      "language": "python",
      "name": "python3"
    },
    "language_info": {
      "codemirror_mode": {
        "name": "ipython",
        "version": 3
      },
      "file_extension": ".py",
      "mimetype": "text/x-python",
      "name": "python",
      "nbconvert_exporter": "python",
      "pygments_lexer": "ipython3",
      "version": "3.9.12"
    },
    "toc": {
      "base_numbering": 1,
      "nav_menu": {},
      "number_sections": true,
      "sideBar": true,
      "skip_h1_title": false,
      "title_cell": "Table of Contents",
      "title_sidebar": "Contents",
      "toc_cell": false,
      "toc_position": {},
      "toc_section_display": true,
      "toc_window_display": false
    },
    "colab": {
      "provenance": [],
      "include_colab_link": true
    }
  },
  "nbformat": 4,
  "nbformat_minor": 5
}
